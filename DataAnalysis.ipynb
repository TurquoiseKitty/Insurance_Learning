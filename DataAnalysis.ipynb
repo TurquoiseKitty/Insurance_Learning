{
 "cells": [
  {
   "cell_type": "markdown",
   "id": "ca96829b",
   "metadata": {},
   "source": [
    "## load data"
   ]
  },
  {
   "cell_type": "code",
   "execution_count": 1,
   "id": "c1ceae70",
   "metadata": {},
   "outputs": [
    {
     "name": "stdout",
     "output_type": "stream",
     "text": [
      "Index(['Exposure', 'VehValue', 'VehAge', 'VehBody', 'Gender', 'DrivAge',\n",
      "       'ClaimOcc', 'ClaimNb', 'ClaimAmount'],\n",
      "      dtype='object')\n"
     ]
    }
   ],
   "source": [
    "import pandas as pd\n",
    "\n",
    "import matplotlib.pyplot as plt\n",
    "\n",
    "df = pd.read_csv(\"datasets/ausdata.csv\")\n",
    "\n",
    "print(df.columns)"
   ]
  },
  {
   "cell_type": "code",
   "execution_count": 13,
   "id": "9d0fde57",
   "metadata": {},
   "outputs": [
    {
     "name": "stdout",
     "output_type": "stream",
     "text": [
      "{0, 1, 2, 3, 4}\n"
     ]
    },
    {
     "data": {
      "text/plain": [
       "(array([6.3232e+04, 0.0000e+00, 4.3330e+03, 0.0000e+00, 0.0000e+00,\n",
       "        2.7100e+02, 0.0000e+00, 1.8000e+01, 0.0000e+00, 2.0000e+00]),\n",
       " array([0. , 0.4, 0.8, 1.2, 1.6, 2. , 2.4, 2.8, 3.2, 3.6, 4. ]),\n",
       " <BarContainer object of 10 artists>)"
      ]
     },
     "execution_count": 13,
     "metadata": {},
     "output_type": "execute_result"
    },
    {
     "data": {
      "image/png": "[encoded data removed]",
      "text/plain": [
       "<Figure size 432x288 with 1 Axes>"
      ]
     },
     "metadata": {
      "needs_background": "light"
     },
     "output_type": "display_data"
    }
   ],
   "source": [
    "NB = df[\"ClaimNb\"].values\n",
    "print(set(NB))\n",
    "plt.hist(NB)"
   ]
  },
  {
   "cell_type": "code",
   "execution_count": 14,
   "id": "66a3315e",
   "metadata": {},
   "outputs": [
    {
     "name": "stdout",
     "output_type": "stream",
     "text": [
      "0.06814430558830464\n"
     ]
    }
   ],
   "source": [
    "CC = df[\"ClaimOcc\"].values\n",
    "print(sum(CC)/len(CC))"
   ]
  },
  {
   "cell_type": "code",
   "execution_count": 8,
   "id": "c686abb0",
   "metadata": {},
   "outputs": [
    {
     "name": "stdout",
     "output_type": "stream",
     "text": [
      "0.9197664359861591\n",
      "5997.1399918\n",
      "200.0\n"
     ]
    },
    {
     "data": {
      "text/plain": [
       "(array([2340.,  664.,  380.,  254.,  171.,  146.,  117.,   76.,   62.,\n",
       "          43.]),\n",
       " array([ 200.        ,  779.71399918, 1359.42799836, 1939.14199754,\n",
       "        2518.85599672, 3098.5699959 , 3678.28399508, 4257.99799426,\n",
       "        4837.71199344, 5417.42599262, 5997.1399918 ]),\n",
       " <BarContainer object of 10 artists>)"
      ]
     },
     "execution_count": 8,
     "metadata": {},
     "output_type": "execute_result"
    },
    {
     "data": {
      "image/png": "[encoded data removed]",
      "text/plain": [
       "<Figure size 432x288 with 1 Axes>"
      ]
     },
     "metadata": {
      "needs_background": "light"
     },
     "output_type": "display_data"
    }
   ],
   "source": [
    "Amount = df[\"ClaimAmount\"].values\n",
    "Amount = Amount[Amount != 0]\n",
    "len1 = len(Amount)\n",
    "Amount = Amount[Amount < 6000]\n",
    "len2 = len(Amount)\n",
    "print(len2 / len1)\n",
    "print(max(Amount))\n",
    "print(min(Amount))\n",
    "plt.hist(Amount)"
   ]
  },
  {
   "cell_type": "code",
   "execution_count": 19,
   "id": "9c2c8aae",
   "metadata": {},
   "outputs": [
    {
     "name": "stdout",
     "output_type": "stream",
     "text": [
      "0.0027378508\n",
      "0.9993155373\n"
     ]
    }
   ],
   "source": [
    "expo = df[\"Exposure\"].values\n",
    "print(min(expo))\n",
    "print(max(expo))"
   ]
  },
  {
   "cell_type": "code",
   "execution_count": 36,
   "id": "4c6d648f",
   "metadata": {},
   "outputs": [
    {
     "name": "stdout",
     "output_type": "stream",
     "text": [
      "0.8000618957792973\n"
     ]
    }
   ],
   "source": [
    "val = df[\"VehValue\"].values\n",
    "val2 = val[val < 3.34]\n",
    "val2 = val2[val2 > 0.69]\n",
    "print(len(val2)/len(val))"
   ]
  },
  {
   "cell_type": "code",
   "execution_count": 37,
   "id": "41bc27f5",
   "metadata": {},
   "outputs": [
    {
     "name": "stdout",
     "output_type": "stream",
     "text": [
      "{'old cars', 'youngest cars', 'young cars', 'oldest cars'}\n"
     ]
    }
   ],
   "source": [
    "ages = df[\"VehAge\"].values\n",
    "print(set(ages))"
   ]
  },
  {
   "cell_type": "code",
   "execution_count": 4,
   "id": "59ac32fd",
   "metadata": {},
   "outputs": [
    {
     "name": "stdout",
     "output_type": "stream",
     "text": [
      "Convertible\n",
      "81\n",
      "Sedan\n",
      "22233\n",
      "Truck\n",
      "1750\n",
      "Roadster\n",
      "27\n",
      "Bus\n",
      "48\n",
      "Coupe\n",
      "780\n",
      "Minibus\n",
      "717\n",
      "Hardtop\n",
      "1579\n",
      "Utility\n",
      "4586\n",
      "Hatchback\n",
      "18915\n",
      "Motorized caravan\n",
      "127\n",
      "Station wagon\n",
      "16261\n",
      "Panel van\n",
      "752\n"
     ]
    }
   ],
   "source": [
    "body = df[\"VehBody\"].values\n",
    "bodies = set(body)\n",
    "for bod in bodies:\n",
    "    print(bod)\n",
    "    print(len(body[body == bod]))"
   ]
  },
  {
   "cell_type": "code",
   "execution_count": 41,
   "id": "1be6730d",
   "metadata": {},
   "outputs": [
    {
     "name": "stdout",
     "output_type": "stream",
     "text": [
      "{'Female', 'Male'}\n"
     ]
    }
   ],
   "source": [
    "gen = df[\"Gender\"].values\n",
    "print(set(gen))"
   ]
  },
  {
   "cell_type": "code",
   "execution_count": 42,
   "id": "2c23bcae",
   "metadata": {},
   "outputs": [
    {
     "name": "stdout",
     "output_type": "stream",
     "text": [
      "{'old people', 'working people', 'youngest people', 'oldest people', 'older work. people', 'young people'}\n"
     ]
    }
   ],
   "source": [
    "dvage = df[\"DrivAge\"].values\n",
    "print(set(dvage))"
   ]
  },
  {
   "cell_type": "code",
   "execution_count": null,
   "id": "fe3f6c1b",
   "metadata": {},
   "outputs": [],
   "source": []
  }
 ],
 "metadata": {
  "kernelspec": {
   "display_name": "Python 3 (ipykernel)",
   "language": "python",
   "name": "python3"
  },
  "language_info": {
   "codemirror_mode": {
    "name": "ipython",
    "version": 3
   },
   "file_extension": ".py",
   "mimetype": "text/x-python",
   "name": "python",
   "nbconvert_exporter": "python",
   "pygments_lexer": "ipython3",
   "version": "3.9.7"
  }
 },
 "nbformat": 4,
 "nbformat_minor": 5
}
