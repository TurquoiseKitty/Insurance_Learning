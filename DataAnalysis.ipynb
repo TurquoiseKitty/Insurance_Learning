{
 "cells": [
  {
   "cell_type": "markdown",
   "id": "ca96829b",
   "metadata": {},
   "source": [
    "## load data"
   ]
  },
  {
   "cell_type": "code",
   "execution_count": 11,
   "id": "c1ceae70",
   "metadata": {},
   "outputs": [
    {
     "name": "stdout",
     "output_type": "stream",
     "text": [
      "Index(['Exposure', 'VehValue', 'VehAge', 'VehBody', 'Gender', 'DrivAge',\n",
      "       'ClaimOcc', 'ClaimNb', 'ClaimAmount'],\n",
      "      dtype='object')\n"
     ]
    }
   ],
   "source": [
    "import pandas as pd\n",
    "\n",
    "import matplotlib.pyplot as plt\n",
    "\n",
    "df = pd.read_csv(\"datasets/ausdata.csv\")\n",
    "\n",
    "print(df.columns)"
   ]
  },
  {
   "cell_type": "code",
   "execution_count": 13,
   "id": "9d0fde57",
   "metadata": {},
   "outputs": [
    {
     "name": "stdout",
     "output_type": "stream",
     "text": [
      "{0, 1, 2, 3, 4}\n"
     ]
    },
    {
     "data": {
      "text/plain": [
       "(array([6.3232e+04, 0.0000e+00, 4.3330e+03, 0.0000e+00, 0.0000e+00,\n",
       "        2.7100e+02, 0.0000e+00, 1.8000e+01, 0.0000e+00, 2.0000e+00]),\n",
       " array([0. , 0.4, 0.8, 1.2, 1.6, 2. , 2.4, 2.8, 3.2, 3.6, 4. ]),\n",
       " <BarContainer object of 10 artists>)"
      ]
     },
     "execution_count": 13,
     "metadata": {},
     "output_type": "execute_result"
    },
    {
     "data": {
      "image/png": "[encoded data removed]",
      "text/plain": [
       "<Figure size 432x288 with 1 Axes>"
      ]
     },
     "metadata": {
      "needs_background": "light"
     },
     "output_type": "display_data"
    }
   ],
   "source": [
    "NB = df[\"ClaimNb\"].values\n",
    "print(set(NB))\n",
    "plt.hist(NB)"
   ]
  },
  {
   "cell_type": "code",
   "execution_count": 14,
   "id": "66a3315e",
   "metadata": {},
   "outputs": [
    {
     "name": "stdout",
     "output_type": "stream",
     "text": [
      "0.06814430558830464\n"
     ]
    }
   ],
   "source": [
    "CC = df[\"ClaimOcc\"].values\n",
    "print(sum(CC)/len(CC))"
   ]
  },
  {
   "cell_type": "code",
   "execution_count": 17,
   "id": "c686abb0",
   "metadata": {},
   "outputs": [
    {
     "name": "stdout",
     "output_type": "stream",
     "text": [
      "55922.129883\n",
      "200.0\n"
     ]
    },
    {
     "data": {
      "text/plain": [
       "(array([4.231e+03, 2.680e+02, 7.400e+01, 3.100e+01, 9.000e+00, 6.000e+00,\n",
       "        2.000e+00, 0.000e+00, 2.000e+00, 1.000e+00]),\n",
       " array([  200.       ,  5772.2129883, 11344.4259766, 16916.6389649,\n",
       "        22488.8519532, 28061.0649415, 33633.2779298, 39205.4909181,\n",
       "        44777.7039064, 50349.9168947, 55922.129883 ]),\n",
       " <BarContainer object of 10 artists>)"
      ]
     },
     "execution_count": 17,
     "metadata": {},
     "output_type": "execute_result"
    },
    {
     "data": {
      "image/png": "[encoded data removed]",
      "text/plain": [
       "<Figure size 432x288 with 1 Axes>"
      ]
     },
     "metadata": {
      "needs_background": "light"
     },
     "output_type": "display_data"
    }
   ],
   "source": [
    "Amount = df[\"ClaimAmount\"].values\n",
    "Amount = Amount[Amount != 0]\n",
    "print(max(Amount))\n",
    "print(min(Amount))\n",
    "\n",
    "plt.hist(Amount)"
   ]
  },
  {
   "cell_type": "code",
   "execution_count": 19,
   "id": "9c2c8aae",
   "metadata": {},
   "outputs": [
    {
     "name": "stdout",
     "output_type": "stream",
     "text": [
      "0.0027378508\n",
      "0.9993155373\n"
     ]
    }
   ],
   "source": [
    "expo = df[\"Exposure\"].values\n",
    "print(min(expo))\n",
    "print(max(expo))"
   ]
  },
  {
   "cell_type": "code",
   "execution_count": 36,
   "id": "4c6d648f",
   "metadata": {},
   "outputs": [
    {
     "name": "stdout",
     "output_type": "stream",
     "text": [
      "0.8000618957792973\n"
     ]
    }
   ],
   "source": [
    "val = df[\"VehValue\"].values\n",
    "val2 = val[val < 3.34]\n",
    "val2 = val2[val2 > 0.69]\n",
    "print(len(val2)/len(val))"
   ]
  },
  {
   "cell_type": "code",
   "execution_count": 37,
   "id": "41bc27f5",
   "metadata": {},
   "outputs": [
    {
     "name": "stdout",
     "output_type": "stream",
     "text": [
      "{'old cars', 'youngest cars', 'young cars', 'oldest cars'}\n"
     ]
    }
   ],
   "source": [
    "ages = df[\"VehAge\"].values\n",
    "print(set(ages))"
   ]
  },
  {
   "cell_type": "code",
   "execution_count": 40,
   "id": "59ac32fd",
   "metadata": {},
   "outputs": [
    {
     "name": "stdout",
     "output_type": "stream",
     "text": [
      "13\n",
      "{'Bus', 'Panel van', 'Minibus', 'Truck', 'Coupe', 'Motorized caravan', 'Convertible', 'Roadster', 'Station wagon', 'Utility', 'Hatchback', 'Hardtop', 'Sedan'}\n"
     ]
    }
   ],
   "source": [
    "body = df[\"VehBody\"].values\n",
    "print(len(set(body)))\n",
    "print(set(body))"
   ]
  },
  {
   "cell_type": "code",
   "execution_count": 41,
   "id": "1be6730d",
   "metadata": {},
   "outputs": [
    {
     "name": "stdout",
     "output_type": "stream",
     "text": [
      "{'Female', 'Male'}\n"
     ]
    }
   ],
   "source": [
    "gen = df[\"Gender\"].values\n",
    "print(set(gen))"
   ]
  },
  {
   "cell_type": "code",
   "execution_count": 42,
   "id": "2c23bcae",
   "metadata": {},
   "outputs": [
    {
     "name": "stdout",
     "output_type": "stream",
     "text": [
      "{'old people', 'working people', 'youngest people', 'oldest people', 'older work. people', 'young people'}\n"
     ]
    }
   ],
   "source": [
    "dvage = df[\"DrivAge\"].values\n",
    "print(set(dvage))"
   ]
  },
  {
   "cell_type": "code",
   "execution_count": null,
   "id": "fe3f6c1b",
   "metadata": {},
   "outputs": [],
   "source": []
  }
 ],
 "metadata": {
  "kernelspec": {
   "display_name": "Python 3 (ipykernel)",
   "language": "python",
   "name": "python3"
  },
  "language_info": {
   "codemirror_mode": {
    "name": "ipython",
    "version": 3
   },
   "file_extension": ".py",
   "mimetype": "text/x-python",
   "name": "python",
   "nbconvert_exporter": "python",
   "pygments_lexer": "ipython3",
   "version": "3.9.7"
  }
 },
 "nbformat": 4,
 "nbformat_minor": 5
}
