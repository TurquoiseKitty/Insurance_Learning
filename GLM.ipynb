{
 "cells": [
  {
   "cell_type": "code",
   "execution_count": 1,
   "id": "49215ab0",
   "metadata": {},
   "outputs": [
    {
     "name": "stdout",
     "output_type": "stream",
     "text": [
      "Index(['Exposure', 'VehValue', 'VehAge', 'VehBody', 'Gender', 'DrivAge',\n",
      "       'ClaimOcc', 'ClaimNb', 'ClaimAmount'],\n",
      "      dtype='object')\n"
     ]
    }
   ],
   "source": [
    "import pandas as pd\n",
    "\n",
    "import matplotlib.pyplot as plt\n",
    "\n",
    "df = pd.read_csv(\"datasets/ausdata.csv\")\n",
    "\n",
    "print(df.columns)"
   ]
  },
  {
   "cell_type": "code",
   "execution_count": 9,
   "id": "fbe51f64",
   "metadata": {},
   "outputs": [
    {
     "name": "stdout",
     "output_type": "stream",
     "text": [
      "8326\n",
      "22523\n",
      "37007\n"
     ]
    }
   ],
   "source": [
    "import numpy as np\n",
    "vals = df['VehValue'].values\n",
    "vals = np.clip(vals,0,6)\n",
    "expensive = vals[vals > 3]\n",
    "print(len(expensive))\n",
    "cheap = vals[vals < 1.2]\n",
    "print(len(cheap))\n",
    "print(len(vals)-len(expensive)-len(cheap))"
   ]
  },
  {
   "cell_type": "code",
   "execution_count": 16,
   "id": "8f56c146",
   "metadata": {},
   "outputs": [],
   "source": [
    "df_modify = df.copy()\n",
    "\n",
    "df_modify.loc[df['VehValue'] < 1.2, 'VehValue'] = \"Cheap\"\n",
    "df_modify.loc[df['VehValue'] > 3, 'VehValue'] = \"Expensive\"\n",
    "df_modify.loc[(df['VehValue'] <= 3) & (df['VehValue'] >= 1.2), 'VehValue'] = \"Average\"\n",
    "\n",
    "df_modify.to_csv(\"datasets/ausdata_modify.csv\",index=False)"
   ]
  },
  {
   "cell_type": "code",
   "execution_count": 19,
   "id": "7d7836b8",
   "metadata": {},
   "outputs": [],
   "source": [
    "import pandas as pd\n",
    "import numpy as np\n",
    "import matplotlib.pyplot as plt\n",
    "\n",
    "df = pd.read_csv(\"datasets/ausdata_modify.csv\")\n",
    "\n",
    "df_ordinal = df.copy()\n",
    "\n",
    "df_ordinal.loc[df['VehValue'] == \"Cheap\",\"VehValue\"] = 1\n",
    "df_ordinal.loc[df['VehValue'] == \"Average\",\"VehValue\"] = 2\n",
    "df_ordinal.loc[df['VehValue'] == \"Expensive\",\"VehValue\"] = 3\n",
    "\n",
    "df_ordinal.loc[df['VehAge'] == \"youngest cars\",\"VehAge\"] = 1\n",
    "df_ordinal.loc[df['VehAge'] == \"young cars\",\"VehAge\"] = 2\n",
    "df_ordinal.loc[df['VehAge'] == \"old cars\",\"VehAge\"] = 3\n",
    "df_ordinal.loc[df['VehAge'] == \"oldest cars\",\"VehAge\"] = 4\n",
    "\n",
    "df_ordinal.loc[df['DrivAge'] == \"youngest people\",\"DrivAge\"] = 1\n",
    "df_ordinal.loc[df['DrivAge'] == \"young people\",\"DrivAge\"] = 2\n",
    "df_ordinal.loc[df['DrivAge'] == \"working people\",\"DrivAge\"] = 3\n",
    "df_ordinal.loc[df['DrivAge'] == \"older work. people\",\"DrivAge\"] = 4\n",
    "df_ordinal.loc[df['DrivAge'] == \"old people\",\"DrivAge\"] = 5\n",
    "df_ordinal.loc[df['DrivAge'] == \"oldest people\",\"DrivAge\"] = 6\n",
    "\n",
    "df_ordinal.to_csv(\"datasets/ausdata_ordinal.csv\",index=False)"
   ]
  },
  {
   "cell_type": "code",
   "execution_count": null,
   "id": "d102d0df",
   "metadata": {},
   "outputs": [],
   "source": []
  }
 ],
 "metadata": {
  "kernelspec": {
   "display_name": "Python 3 (ipykernel)",
   "language": "python",
   "name": "python3"
  },
  "language_info": {
   "codemirror_mode": {
    "name": "ipython",
    "version": 3
   },
   "file_extension": ".py",
   "mimetype": "text/x-python",
   "name": "python",
   "nbconvert_exporter": "python",
   "pygments_lexer": "ipython3",
   "version": "3.9.7"
  }
 },
 "nbformat": 4,
 "nbformat_minor": 5
}
